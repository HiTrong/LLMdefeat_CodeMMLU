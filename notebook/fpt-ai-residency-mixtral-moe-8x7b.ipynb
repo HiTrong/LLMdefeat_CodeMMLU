{
 "cells": [
  {
   "cell_type": "markdown",
   "id": "ddae9165",
   "metadata": {
    "papermill": {
     "duration": 0.004581,
     "end_time": "2025-03-30T11:13:23.796958",
     "exception": false,
     "start_time": "2025-03-30T11:13:23.792377",
     "status": "completed"
    },
    "tags": []
   },
   "source": [
    "# Installing Packages"
   ]
  },
  {
   "cell_type": "code",
   "execution_count": 1,
   "id": "df01c6e0",
   "metadata": {
    "execution": {
     "iopub.execute_input": "2025-03-30T11:13:23.805850Z",
     "iopub.status.busy": "2025-03-30T11:13:23.805632Z",
     "iopub.status.idle": "2025-03-30T11:14:22.829994Z",
     "shell.execute_reply": "2025-03-30T11:14:22.828982Z"
    },
    "papermill": {
     "duration": 59.030727,
     "end_time": "2025-03-30T11:14:22.831698",
     "exception": false,
     "start_time": "2025-03-30T11:13:23.800971",
     "status": "completed"
    },
    "tags": []
   },
   "outputs": [],
   "source": [
    "%%capture\n",
    "!pip install git+https://github.com/huggingface/transformers.git  -U \n",
    "!pip install git+https://github.com/huggingface/accelerate.git  -U \n",
    "!pip install bitsandbytes \n",
    "!pip install git+https://github.com/huggingface/peft.git  -U "
   ]
  },
  {
   "cell_type": "markdown",
   "id": "f7e3cd44",
   "metadata": {
    "papermill": {
     "duration": 0.00395,
     "end_time": "2025-03-30T11:14:22.840113",
     "exception": false,
     "start_time": "2025-03-30T11:14:22.836163",
     "status": "completed"
    },
    "tags": []
   },
   "source": [
    "# Import Libs"
   ]
  },
  {
   "cell_type": "code",
   "execution_count": 2,
   "id": "a91f16e4",
   "metadata": {
    "_cell_guid": "b1076dfc-b9ad-4769-8c92-a6c4dae69d19",
    "_uuid": "8f2839f25d086af736a60e9eeb907d3b93b6e0e5",
    "execution": {
     "iopub.execute_input": "2025-03-30T11:14:22.849011Z",
     "iopub.status.busy": "2025-03-30T11:14:22.848776Z",
     "iopub.status.idle": "2025-03-30T11:14:43.574098Z",
     "shell.execute_reply": "2025-03-30T11:14:43.573436Z"
    },
    "papermill": {
     "duration": 20.731535,
     "end_time": "2025-03-30T11:14:43.575601",
     "exception": false,
     "start_time": "2025-03-30T11:14:22.844066",
     "status": "completed"
    },
    "tags": []
   },
   "outputs": [],
   "source": [
    "import numpy as np\n",
    "import pandas as pd\n",
    "\n",
    "from transformers import AutoModelForCausalLM, AutoTokenizer, BitsAndBytesConfig\n",
    "import torch\n",
    "from peft import PeftModel, PeftConfig\n",
    "\n",
    "import os, re, string, ast\n",
    "import random\n",
    "from collections import Counter\n",
    "from tqdm.auto import tqdm\n",
    "from IPython.display import clear_output\n",
    "\n",
    "import warnings\n",
    "warnings.filterwarnings(\"ignore\")\n",
    "warnings.filterwarnings(\"ignore\", category=UserWarning, module=\"transformers\")"
   ]
  },
  {
   "cell_type": "markdown",
   "id": "c832a920",
   "metadata": {
    "papermill": {
     "duration": 0.00381,
     "end_time": "2025-03-30T11:14:43.583782",
     "exception": false,
     "start_time": "2025-03-30T11:14:43.579972",
     "status": "completed"
    },
    "tags": []
   },
   "source": [
    "# Setup model"
   ]
  },
  {
   "cell_type": "code",
   "execution_count": 3,
   "id": "78809897",
   "metadata": {
    "execution": {
     "iopub.execute_input": "2025-03-30T11:14:43.592465Z",
     "iopub.status.busy": "2025-03-30T11:14:43.591968Z",
     "iopub.status.idle": "2025-03-30T11:14:43.596829Z",
     "shell.execute_reply": "2025-03-30T11:14:43.596231Z"
    },
    "papermill": {
     "duration": 0.010344,
     "end_time": "2025-03-30T11:14:43.597946",
     "exception": false,
     "start_time": "2025-03-30T11:14:43.587602",
     "status": "completed"
    },
    "tags": []
   },
   "outputs": [],
   "source": [
    "bnb_config = BitsAndBytesConfig(  \n",
    "    load_in_4bit= True,\n",
    "    bnb_4bit_quant_type= \"nf4\",\n",
    "    bnb_4bit_compute_dtype= torch.float16,\n",
    "    bnb_4bit_use_double_quant= True,\n",
    "llm_int8_enable_fp32_cpu_offload= True)"
   ]
  },
  {
   "cell_type": "code",
   "execution_count": 4,
   "id": "7d043550",
   "metadata": {
    "execution": {
     "iopub.execute_input": "2025-03-30T11:14:43.606407Z",
     "iopub.status.busy": "2025-03-30T11:14:43.606157Z",
     "iopub.status.idle": "2025-03-30T11:14:43.608991Z",
     "shell.execute_reply": "2025-03-30T11:14:43.608413Z"
    },
    "papermill": {
     "duration": 0.00809,
     "end_time": "2025-03-30T11:14:43.610013",
     "exception": false,
     "start_time": "2025-03-30T11:14:43.601923",
     "status": "completed"
    },
    "tags": []
   },
   "outputs": [],
   "source": [
    "torch.cuda.empty_cache()"
   ]
  },
  {
   "cell_type": "code",
   "execution_count": 5,
   "id": "d25ce0a9",
   "metadata": {
    "execution": {
     "iopub.execute_input": "2025-03-30T11:14:43.618254Z",
     "iopub.status.busy": "2025-03-30T11:14:43.618049Z",
     "iopub.status.idle": "2025-03-30T11:22:32.634609Z",
     "shell.execute_reply": "2025-03-30T11:22:32.633870Z"
    },
    "papermill": {
     "duration": 469.02234,
     "end_time": "2025-03-30T11:22:32.636103",
     "exception": false,
     "start_time": "2025-03-30T11:14:43.613763",
     "status": "completed"
    },
    "tags": []
   },
   "outputs": [
    {
     "data": {
      "application/vnd.jupyter.widget-view+json": {
       "model_id": "d9a32565cfda474cbbb94d2ec4d18522",
       "version_major": 2,
       "version_minor": 0
      },
      "text/plain": [
       "Loading checkpoint shards:   0%|          | 0/19 [00:00<?, ?it/s]"
      ]
     },
     "metadata": {},
     "output_type": "display_data"
    }
   ],
   "source": [
    "model = AutoModelForCausalLM.from_pretrained(\n",
    "        '/kaggle/input/mixtral/pytorch/8x7b-instruct-v0.1-hf/1',\n",
    "        quantization_config=bnb_config,\n",
    "        device_map=\"auto\",\n",
    "        trust_remote_code=True,)"
   ]
  },
  {
   "cell_type": "code",
   "execution_count": 6,
   "id": "3bf4c008",
   "metadata": {
    "execution": {
     "iopub.execute_input": "2025-03-30T11:22:32.649262Z",
     "iopub.status.busy": "2025-03-30T11:22:32.648931Z",
     "iopub.status.idle": "2025-03-30T11:22:33.022795Z",
     "shell.execute_reply": "2025-03-30T11:22:33.021732Z"
    },
    "papermill": {
     "duration": 0.380315,
     "end_time": "2025-03-30T11:22:33.024466",
     "exception": false,
     "start_time": "2025-03-30T11:22:32.644151",
     "status": "completed"
    },
    "tags": []
   },
   "outputs": [],
   "source": [
    "from transformers import pipeline, AutoTokenizer\n",
    "tokenizer = AutoTokenizer.from_pretrained('/kaggle/input/mixtral/pytorch/8x7b-instruct-v0.1-hf/1', trust_remote_code=True)"
   ]
  },
  {
   "cell_type": "code",
   "execution_count": 7,
   "id": "ed23abd7",
   "metadata": {
    "execution": {
     "iopub.execute_input": "2025-03-30T11:22:33.033990Z",
     "iopub.status.busy": "2025-03-30T11:22:33.033766Z",
     "iopub.status.idle": "2025-03-30T11:22:33.037672Z",
     "shell.execute_reply": "2025-03-30T11:22:33.037077Z"
    },
    "papermill": {
     "duration": 0.009989,
     "end_time": "2025-03-30T11:22:33.038837",
     "exception": false,
     "start_time": "2025-03-30T11:22:33.028848",
     "status": "completed"
    },
    "tags": []
   },
   "outputs": [],
   "source": [
    "def generate(prompt, max_new_tokens=1) : \n",
    "        pipe = pipeline(task=\"text-generation\", model=model, tokenizer=tokenizer)\n",
    "        sequences = pipe(\n",
    "            prompt,\n",
    "            do_sample=True,\n",
    "            max_new_tokens=max_new_tokens, \n",
    "            temperature=0.7, \n",
    "            top_p=0.95\n",
    "        )\n",
    "        response = re.sub(r'[\\'\"]', '', sequences[0]['generated_text'].split(\"[/INST]\")[1])\n",
    "        return response.strip()"
   ]
  },
  {
   "cell_type": "markdown",
   "id": "825d7da8",
   "metadata": {
    "papermill": {
     "duration": 0.003719,
     "end_time": "2025-03-30T11:22:33.046496",
     "exception": false,
     "start_time": "2025-03-30T11:22:33.042777",
     "status": "completed"
    },
    "tags": []
   },
   "source": [
    "# Load data and process"
   ]
  },
  {
   "cell_type": "code",
   "execution_count": 8,
   "id": "267c5df2",
   "metadata": {
    "execution": {
     "iopub.execute_input": "2025-03-30T11:22:33.055239Z",
     "iopub.status.busy": "2025-03-30T11:22:33.055037Z",
     "iopub.status.idle": "2025-03-30T11:22:33.150255Z",
     "shell.execute_reply": "2025-03-30T11:22:33.149394Z"
    },
    "papermill": {
     "duration": 0.10118,
     "end_time": "2025-03-30T11:22:33.151672",
     "exception": false,
     "start_time": "2025-03-30T11:22:33.050492",
     "status": "completed"
    },
    "tags": []
   },
   "outputs": [
    {
     "data": {
      "text/html": [
       "<div>\n",
       "<style scoped>\n",
       "    .dataframe tbody tr th:only-of-type {\n",
       "        vertical-align: middle;\n",
       "    }\n",
       "\n",
       "    .dataframe tbody tr th {\n",
       "        vertical-align: top;\n",
       "    }\n",
       "\n",
       "    .dataframe thead th {\n",
       "        text-align: right;\n",
       "    }\n",
       "</style>\n",
       "<table border=\"1\" class=\"dataframe\">\n",
       "  <thead>\n",
       "    <tr style=\"text-align: right;\">\n",
       "      <th></th>\n",
       "      <th>task_id</th>\n",
       "      <th>question</th>\n",
       "      <th>choices</th>\n",
       "      <th>answer</th>\n",
       "    </tr>\n",
       "  </thead>\n",
       "  <tbody>\n",
       "    <tr>\n",
       "      <th>0</th>\n",
       "      <td>k10168</td>\n",
       "      <td>Question: What will be output of the following...</td>\n",
       "      <td>['8 4 2', '8 4 2', '8 4 4', '8 4 3']</td>\n",
       "      <td>C</td>\n",
       "    </tr>\n",
       "    <tr>\n",
       "      <th>1</th>\n",
       "      <td>k10173</td>\n",
       "      <td>Question: What will be output of the following...</td>\n",
       "      <td>['-4', '-5', '10', '11']</td>\n",
       "      <td>A</td>\n",
       "    </tr>\n",
       "    <tr>\n",
       "      <th>2</th>\n",
       "      <td>k10174</td>\n",
       "      <td>Question: Match the following.\\n      Group 1 ...</td>\n",
       "      <td>['P-4. Q-1, R-2, S-3', 'P-3, Q-1, R-4, S-2', '...</td>\n",
       "      <td>B</td>\n",
       "    </tr>\n",
       "  </tbody>\n",
       "</table>\n",
       "</div>"
      ],
      "text/plain": [
       "  task_id                                           question  \\\n",
       "0  k10168  Question: What will be output of the following...   \n",
       "1  k10173  Question: What will be output of the following...   \n",
       "2  k10174  Question: Match the following.\\n      Group 1 ...   \n",
       "\n",
       "                                             choices answer  \n",
       "0               ['8 4 2', '8 4 2', '8 4 4', '8 4 3']      C  \n",
       "1                           ['-4', '-5', '10', '11']      A  \n",
       "2  ['P-4. Q-1, R-2, S-3', 'P-3, Q-1, R-4, S-2', '...      B  "
      ]
     },
     "execution_count": 8,
     "metadata": {},
     "output_type": "execute_result"
    }
   ],
   "source": [
    "df_train = pd.read_csv(\"/kaggle/input/fpt-ai-residency-batch-6-entry-test/b6_train_data.csv\")\n",
    "df_train.head(3)"
   ]
  },
  {
   "cell_type": "code",
   "execution_count": 9,
   "id": "80ac375c",
   "metadata": {
    "execution": {
     "iopub.execute_input": "2025-03-30T11:22:33.161003Z",
     "iopub.status.busy": "2025-03-30T11:22:33.160788Z",
     "iopub.status.idle": "2025-03-30T11:22:33.191069Z",
     "shell.execute_reply": "2025-03-30T11:22:33.190299Z"
    },
    "papermill": {
     "duration": 0.036409,
     "end_time": "2025-03-30T11:22:33.192458",
     "exception": false,
     "start_time": "2025-03-30T11:22:33.156049",
     "status": "completed"
    },
    "tags": []
   },
   "outputs": [
    {
     "data": {
      "text/html": [
       "<div>\n",
       "<style scoped>\n",
       "    .dataframe tbody tr th:only-of-type {\n",
       "        vertical-align: middle;\n",
       "    }\n",
       "\n",
       "    .dataframe tbody tr th {\n",
       "        vertical-align: top;\n",
       "    }\n",
       "\n",
       "    .dataframe thead th {\n",
       "        text-align: right;\n",
       "    }\n",
       "</style>\n",
       "<table border=\"1\" class=\"dataframe\">\n",
       "  <thead>\n",
       "    <tr style=\"text-align: right;\">\n",
       "      <th></th>\n",
       "      <th>task_id</th>\n",
       "      <th>question</th>\n",
       "      <th>choices</th>\n",
       "    </tr>\n",
       "  </thead>\n",
       "  <tbody>\n",
       "    <tr>\n",
       "      <th>0</th>\n",
       "      <td>k10171</td>\n",
       "      <td>Question: What will be output of the following...</td>\n",
       "      <td>['10', '9', '8', 'Error']</td>\n",
       "    </tr>\n",
       "    <tr>\n",
       "      <th>1</th>\n",
       "      <td>k10182</td>\n",
       "      <td>Question: Consider line 3. Identify the compil...</td>\n",
       "      <td>['No compilation error', 'Only a lexical error...</td>\n",
       "    </tr>\n",
       "    <tr>\n",
       "      <th>2</th>\n",
       "      <td>k10184</td>\n",
       "      <td>Question: Assume the conflicts part (a) of thi...</td>\n",
       "      <td>['Equal precedence and left associativity; exp...</td>\n",
       "    </tr>\n",
       "  </tbody>\n",
       "</table>\n",
       "</div>"
      ],
      "text/plain": [
       "  task_id                                           question  \\\n",
       "0  k10171  Question: What will be output of the following...   \n",
       "1  k10182  Question: Consider line 3. Identify the compil...   \n",
       "2  k10184  Question: Assume the conflicts part (a) of thi...   \n",
       "\n",
       "                                             choices  \n",
       "0                          ['10', '9', '8', 'Error']  \n",
       "1  ['No compilation error', 'Only a lexical error...  \n",
       "2  ['Equal precedence and left associativity; exp...  "
      ]
     },
     "execution_count": 9,
     "metadata": {},
     "output_type": "execute_result"
    }
   ],
   "source": [
    "df_test = pd.read_csv(\"/kaggle/input/fpt-ai-residency-batch-6-entry-test/b6_test_data.csv\")\n",
    "df_test.head(3)"
   ]
  },
  {
   "cell_type": "code",
   "execution_count": 10,
   "id": "1072e4f8",
   "metadata": {
    "execution": {
     "iopub.execute_input": "2025-03-30T11:22:33.203481Z",
     "iopub.status.busy": "2025-03-30T11:22:33.203220Z",
     "iopub.status.idle": "2025-03-30T11:22:33.235358Z",
     "shell.execute_reply": "2025-03-30T11:22:33.234352Z"
    },
    "papermill": {
     "duration": 0.039183,
     "end_time": "2025-03-30T11:22:33.236759",
     "exception": false,
     "start_time": "2025-03-30T11:22:33.197576",
     "status": "completed"
    },
    "tags": []
   },
   "outputs": [
    {
     "name": "stdout",
     "output_type": "stream",
     "text": [
      "['C' 'A' 'B' 'D' 'ANSWER: C' 'ANSWER: B' 'ANSWER: D' 'ANSWER: A' 'E' 'G'\n",
      " nan 'ANSWER:  D']\n"
     ]
    },
    {
     "data": {
      "text/html": [
       "<div>\n",
       "<style scoped>\n",
       "    .dataframe tbody tr th:only-of-type {\n",
       "        vertical-align: middle;\n",
       "    }\n",
       "\n",
       "    .dataframe tbody tr th {\n",
       "        vertical-align: top;\n",
       "    }\n",
       "\n",
       "    .dataframe thead th {\n",
       "        text-align: right;\n",
       "    }\n",
       "</style>\n",
       "<table border=\"1\" class=\"dataframe\">\n",
       "  <thead>\n",
       "    <tr style=\"text-align: right;\">\n",
       "      <th></th>\n",
       "      <th>task_id</th>\n",
       "      <th>question</th>\n",
       "      <th>choices</th>\n",
       "      <th>answer</th>\n",
       "    </tr>\n",
       "  </thead>\n",
       "  <tbody>\n",
       "    <tr>\n",
       "      <th>count</th>\n",
       "      <td>3963</td>\n",
       "      <td>3963</td>\n",
       "      <td>3963</td>\n",
       "      <td>3949</td>\n",
       "    </tr>\n",
       "    <tr>\n",
       "      <th>unique</th>\n",
       "      <td>3963</td>\n",
       "      <td>3826</td>\n",
       "      <td>3451</td>\n",
       "      <td>11</td>\n",
       "    </tr>\n",
       "    <tr>\n",
       "      <th>top</th>\n",
       "      <td>k00701</td>\n",
       "      <td>Question: What is Conditional Rendering?</td>\n",
       "      <td>['False', 'True']</td>\n",
       "      <td>A</td>\n",
       "    </tr>\n",
       "    <tr>\n",
       "      <th>freq</th>\n",
       "      <td>1</td>\n",
       "      <td>7</td>\n",
       "      <td>22</td>\n",
       "      <td>988</td>\n",
       "    </tr>\n",
       "  </tbody>\n",
       "</table>\n",
       "</div>"
      ],
      "text/plain": [
       "       task_id                                  question            choices  \\\n",
       "count     3963                                      3963               3963   \n",
       "unique    3963                                      3826               3451   \n",
       "top     k00701  Question: What is Conditional Rendering?  ['False', 'True']   \n",
       "freq         1                                         7                 22   \n",
       "\n",
       "       answer  \n",
       "count    3949  \n",
       "unique     11  \n",
       "top         A  \n",
       "freq      988  "
      ]
     },
     "execution_count": 10,
     "metadata": {},
     "output_type": "execute_result"
    }
   ],
   "source": [
    "print(df_train['answer'].unique())\n",
    "df_train.describe()"
   ]
  },
  {
   "cell_type": "code",
   "execution_count": 11,
   "id": "bb96e2b0",
   "metadata": {
    "execution": {
     "iopub.execute_input": "2025-03-30T11:22:33.246694Z",
     "iopub.status.busy": "2025-03-30T11:22:33.246464Z",
     "iopub.status.idle": "2025-03-30T11:22:33.281194Z",
     "shell.execute_reply": "2025-03-30T11:22:33.280397Z"
    },
    "papermill": {
     "duration": 0.041158,
     "end_time": "2025-03-30T11:22:33.282553",
     "exception": false,
     "start_time": "2025-03-30T11:22:33.241395",
     "status": "completed"
    },
    "tags": []
   },
   "outputs": [
    {
     "name": "stdout",
     "output_type": "stream",
     "text": [
      "['C' 'A' 'B' 'D' 'E' 'G']\n"
     ]
    },
    {
     "data": {
      "text/html": [
       "<div>\n",
       "<style scoped>\n",
       "    .dataframe tbody tr th:only-of-type {\n",
       "        vertical-align: middle;\n",
       "    }\n",
       "\n",
       "    .dataframe tbody tr th {\n",
       "        vertical-align: top;\n",
       "    }\n",
       "\n",
       "    .dataframe thead th {\n",
       "        text-align: right;\n",
       "    }\n",
       "</style>\n",
       "<table border=\"1\" class=\"dataframe\">\n",
       "  <thead>\n",
       "    <tr style=\"text-align: right;\">\n",
       "      <th></th>\n",
       "      <th>task_id</th>\n",
       "      <th>question</th>\n",
       "      <th>choices</th>\n",
       "      <th>answer</th>\n",
       "    </tr>\n",
       "  </thead>\n",
       "  <tbody>\n",
       "    <tr>\n",
       "      <th>count</th>\n",
       "      <td>3949</td>\n",
       "      <td>3949</td>\n",
       "      <td>3949</td>\n",
       "      <td>3949</td>\n",
       "    </tr>\n",
       "    <tr>\n",
       "      <th>unique</th>\n",
       "      <td>3949</td>\n",
       "      <td>3814</td>\n",
       "      <td>3450</td>\n",
       "      <td>6</td>\n",
       "    </tr>\n",
       "    <tr>\n",
       "      <th>top</th>\n",
       "      <td>k00701</td>\n",
       "      <td>Question: What is Conditional Rendering?</td>\n",
       "      <td>['False', 'True']</td>\n",
       "      <td>A</td>\n",
       "    </tr>\n",
       "    <tr>\n",
       "      <th>freq</th>\n",
       "      <td>1</td>\n",
       "      <td>7</td>\n",
       "      <td>22</td>\n",
       "      <td>1066</td>\n",
       "    </tr>\n",
       "  </tbody>\n",
       "</table>\n",
       "</div>"
      ],
      "text/plain": [
       "       task_id                                  question            choices  \\\n",
       "count     3949                                      3949               3949   \n",
       "unique    3949                                      3814               3450   \n",
       "top     k00701  Question: What is Conditional Rendering?  ['False', 'True']   \n",
       "freq         1                                         7                 22   \n",
       "\n",
       "       answer  \n",
       "count    3949  \n",
       "unique      6  \n",
       "top         A  \n",
       "freq     1066  "
      ]
     },
     "execution_count": 11,
     "metadata": {},
     "output_type": "execute_result"
    }
   ],
   "source": [
    "df_train = df_train.dropna()\n",
    "df_train = df_train.drop_duplicates()\n",
    "df_train['answer'] = df_train['answer'].astype(str).str.strip().str[-1]\n",
    "print(df_train['answer'].unique())\n",
    "df_train.describe()"
   ]
  },
  {
   "cell_type": "code",
   "execution_count": 12,
   "id": "bb3c0c6f",
   "metadata": {
    "execution": {
     "iopub.execute_input": "2025-03-30T11:22:33.292642Z",
     "iopub.status.busy": "2025-03-30T11:22:33.292413Z",
     "iopub.status.idle": "2025-03-30T11:22:33.304519Z",
     "shell.execute_reply": "2025-03-30T11:22:33.303850Z"
    },
    "papermill": {
     "duration": 0.018532,
     "end_time": "2025-03-30T11:22:33.305605",
     "exception": false,
     "start_time": "2025-03-30T11:22:33.287073",
     "status": "completed"
    },
    "tags": []
   },
   "outputs": [
    {
     "data": {
      "text/html": [
       "<div>\n",
       "<style scoped>\n",
       "    .dataframe tbody tr th:only-of-type {\n",
       "        vertical-align: middle;\n",
       "    }\n",
       "\n",
       "    .dataframe tbody tr th {\n",
       "        vertical-align: top;\n",
       "    }\n",
       "\n",
       "    .dataframe thead th {\n",
       "        text-align: right;\n",
       "    }\n",
       "</style>\n",
       "<table border=\"1\" class=\"dataframe\">\n",
       "  <thead>\n",
       "    <tr style=\"text-align: right;\">\n",
       "      <th></th>\n",
       "      <th>task_id</th>\n",
       "      <th>question</th>\n",
       "      <th>choices</th>\n",
       "    </tr>\n",
       "  </thead>\n",
       "  <tbody>\n",
       "    <tr>\n",
       "      <th>count</th>\n",
       "      <td>1253</td>\n",
       "      <td>1253</td>\n",
       "      <td>1253</td>\n",
       "    </tr>\n",
       "    <tr>\n",
       "      <th>unique</th>\n",
       "      <td>1253</td>\n",
       "      <td>1242</td>\n",
       "      <td>1163</td>\n",
       "    </tr>\n",
       "    <tr>\n",
       "      <th>top</th>\n",
       "      <td>k00700</td>\n",
       "      <td>Question: Match the following:</td>\n",
       "      <td>['(1)', '(2)', '(3)', '(4)']</td>\n",
       "    </tr>\n",
       "    <tr>\n",
       "      <th>freq</th>\n",
       "      <td>1</td>\n",
       "      <td>2</td>\n",
       "      <td>7</td>\n",
       "    </tr>\n",
       "  </tbody>\n",
       "</table>\n",
       "</div>"
      ],
      "text/plain": [
       "       task_id                        question                       choices\n",
       "count     1253                            1253                          1253\n",
       "unique    1253                            1242                          1163\n",
       "top     k00700  Question: Match the following:  ['(1)', '(2)', '(3)', '(4)']\n",
       "freq         1                               2                             7"
      ]
     },
     "execution_count": 12,
     "metadata": {},
     "output_type": "execute_result"
    }
   ],
   "source": [
    "df_test.describe()"
   ]
  },
  {
   "cell_type": "markdown",
   "id": "751c5506",
   "metadata": {
    "papermill": {
     "duration": 0.004459,
     "end_time": "2025-03-30T11:22:33.315016",
     "exception": false,
     "start_time": "2025-03-30T11:22:33.310557",
     "status": "completed"
    },
    "tags": []
   },
   "source": [
    "# Inference"
   ]
  },
  {
   "cell_type": "code",
   "execution_count": 13,
   "id": "b9d1a733",
   "metadata": {
    "execution": {
     "iopub.execute_input": "2025-03-30T11:22:33.324931Z",
     "iopub.status.busy": "2025-03-30T11:22:33.324731Z",
     "iopub.status.idle": "2025-03-30T11:22:33.328909Z",
     "shell.execute_reply": "2025-03-30T11:22:33.328224Z"
    },
    "papermill": {
     "duration": 0.010518,
     "end_time": "2025-03-30T11:22:33.330102",
     "exception": false,
     "start_time": "2025-03-30T11:22:33.319584",
     "status": "completed"
    },
    "tags": []
   },
   "outputs": [],
   "source": [
    "index2choice = {i: letter for i, letter in enumerate(string.ascii_uppercase)}\n",
    "choice2index = {letter: i for i, letter in enumerate(string.ascii_uppercase)}\n",
    "\n",
    "def choices2str(choices):\n",
    "    choices_lst = ast.literal_eval(choices)\n",
    "    result = \"\"\n",
    "    for i in range(0, len(choices_lst)):\n",
    "        result = result + index2choice[i] + \". \" + str(choices_lst[i]) + \"\\n\\n\"\n",
    "    return result.strip()"
   ]
  },
  {
   "cell_type": "code",
   "execution_count": 14,
   "id": "50f0c682",
   "metadata": {
    "execution": {
     "iopub.execute_input": "2025-03-30T11:22:33.339988Z",
     "iopub.status.busy": "2025-03-30T11:22:33.339793Z",
     "iopub.status.idle": "2025-03-30T11:22:33.343717Z",
     "shell.execute_reply": "2025-03-30T11:22:33.343066Z"
    },
    "papermill": {
     "duration": 0.009988,
     "end_time": "2025-03-30T11:22:33.344812",
     "exception": false,
     "start_time": "2025-03-30T11:22:33.334824",
     "status": "completed"
    },
    "tags": []
   },
   "outputs": [],
   "source": [
    "def response_parser(response):\n",
    "    if len(response) == 1 and response.upper() in list(choice2index.keys()):\n",
    "        return response\n",
    "\n",
    "    response = response.translate(str.maketrans('', '', string.punctuation))\n",
    "    response_split = response.split()\n",
    "    for re in response_split:\n",
    "        if re in list(choice2index.keys()):\n",
    "            return re\n",
    "    return random.choice([\"A\", \"B\", \"C\", \"D\"])"
   ]
  },
  {
   "cell_type": "code",
   "execution_count": 15,
   "id": "87bb70a3",
   "metadata": {
    "execution": {
     "iopub.execute_input": "2025-03-30T11:22:33.354794Z",
     "iopub.status.busy": "2025-03-30T11:22:33.354598Z",
     "iopub.status.idle": "2025-03-30T11:22:33.357743Z",
     "shell.execute_reply": "2025-03-30T11:22:33.357118Z"
    },
    "papermill": {
     "duration": 0.009444,
     "end_time": "2025-03-30T11:22:33.358853",
     "exception": false,
     "start_time": "2025-03-30T11:22:33.349409",
     "status": "completed"
    },
    "tags": []
   },
   "outputs": [],
   "source": [
    "def formatting_func(question, choices):\n",
    "    text = f\"\"\"<s>[INST]You are a programming expert and will answer multiple-choice questions about code.  \n",
    "Read the following question and options carefully and select the **best** answer.  \n",
    "\n",
    "### Response Format:\n",
    "- Reply with **only** the letter of the correct choice (A, B, C, or D).  \n",
    "- Do **not** provide explanations. \n",
    "\n",
    "### Question:\n",
    "{question}\n",
    "\n",
    "### Options:\n",
    "{choices2str(choices)}\n",
    "\n",
    "### Response:\n",
    "[/INST]\"\"\"\n",
    "    return text"
   ]
  },
  {
   "cell_type": "code",
   "execution_count": 16,
   "id": "1b0efe22",
   "metadata": {
    "execution": {
     "iopub.execute_input": "2025-03-30T11:22:33.368693Z",
     "iopub.status.busy": "2025-03-30T11:22:33.368494Z",
     "iopub.status.idle": "2025-03-30T11:22:33.371503Z",
     "shell.execute_reply": "2025-03-30T11:22:33.370821Z"
    },
    "papermill": {
     "duration": 0.009226,
     "end_time": "2025-03-30T11:22:33.372722",
     "exception": false,
     "start_time": "2025-03-30T11:22:33.363496",
     "status": "completed"
    },
    "tags": []
   },
   "outputs": [],
   "source": [
    "data_dict = {\n",
    "    \"task_id\": [],\n",
    "    \"answer\": []\n",
    "}"
   ]
  },
  {
   "cell_type": "code",
   "execution_count": 17,
   "id": "d0e73890",
   "metadata": {
    "execution": {
     "iopub.execute_input": "2025-03-30T11:22:33.382698Z",
     "iopub.status.busy": "2025-03-30T11:22:33.382502Z",
     "iopub.status.idle": "2025-03-30T12:12:03.719469Z",
     "shell.execute_reply": "2025-03-30T12:12:03.718619Z"
    },
    "papermill": {
     "duration": 2970.348381,
     "end_time": "2025-03-30T12:12:03.725802",
     "exception": false,
     "start_time": "2025-03-30T11:22:33.377421",
     "status": "completed"
    },
    "tags": []
   },
   "outputs": [
    {
     "name": "stderr",
     "output_type": "stream",
     "text": [
      "Device set to use cuda:0\n",
      "Setting `pad_token_id` to `eos_token_id`:2 for open-end generation.\n"
     ]
    }
   ],
   "source": [
    "for i in tqdm(range(0, df_test.shape[0]), desc=\"Inference on Test set\"):\n",
    "    task_id = df_test['task_id'].iloc[i]\n",
    "    prompt = formatting_func(df_test[\"question\"].iloc[i], df_test[\"choices\"].iloc[i])\n",
    "    response = generate(prompt)\n",
    "    answer = response_parser(response)\n",
    "    data_dict['task_id'].append(task_id)\n",
    "    data_dict['answer'].append(answer)\n",
    "    clear_output(wait=True) # Transformers log so much"
   ]
  },
  {
   "cell_type": "markdown",
   "id": "f1a1bc25",
   "metadata": {
    "papermill": {
     "duration": 0.004706,
     "end_time": "2025-03-30T12:12:03.735513",
     "exception": false,
     "start_time": "2025-03-30T12:12:03.730807",
     "status": "completed"
    },
    "tags": []
   },
   "source": [
    "# Submission"
   ]
  },
  {
   "cell_type": "code",
   "execution_count": 18,
   "id": "616e40ae",
   "metadata": {
    "execution": {
     "iopub.execute_input": "2025-03-30T12:12:03.746061Z",
     "iopub.status.busy": "2025-03-30T12:12:03.745775Z",
     "iopub.status.idle": "2025-03-30T12:12:03.754465Z",
     "shell.execute_reply": "2025-03-30T12:12:03.753732Z"
    },
    "papermill": {
     "duration": 0.015603,
     "end_time": "2025-03-30T12:12:03.755822",
     "exception": false,
     "start_time": "2025-03-30T12:12:03.740219",
     "status": "completed"
    },
    "tags": []
   },
   "outputs": [
    {
     "data": {
      "text/html": [
       "<div>\n",
       "<style scoped>\n",
       "    .dataframe tbody tr th:only-of-type {\n",
       "        vertical-align: middle;\n",
       "    }\n",
       "\n",
       "    .dataframe tbody tr th {\n",
       "        vertical-align: top;\n",
       "    }\n",
       "\n",
       "    .dataframe thead th {\n",
       "        text-align: right;\n",
       "    }\n",
       "</style>\n",
       "<table border=\"1\" class=\"dataframe\">\n",
       "  <thead>\n",
       "    <tr style=\"text-align: right;\">\n",
       "      <th></th>\n",
       "      <th>task_id</th>\n",
       "      <th>answer</th>\n",
       "    </tr>\n",
       "  </thead>\n",
       "  <tbody>\n",
       "    <tr>\n",
       "      <th>0</th>\n",
       "      <td>k10171</td>\n",
       "      <td>D</td>\n",
       "    </tr>\n",
       "    <tr>\n",
       "      <th>1</th>\n",
       "      <td>k10182</td>\n",
       "      <td>D</td>\n",
       "    </tr>\n",
       "    <tr>\n",
       "      <th>2</th>\n",
       "      <td>k10184</td>\n",
       "      <td>A</td>\n",
       "    </tr>\n",
       "    <tr>\n",
       "      <th>3</th>\n",
       "      <td>k10206</td>\n",
       "      <td>D</td>\n",
       "    </tr>\n",
       "    <tr>\n",
       "      <th>4</th>\n",
       "      <td>k10215</td>\n",
       "      <td>D</td>\n",
       "    </tr>\n",
       "  </tbody>\n",
       "</table>\n",
       "</div>"
      ],
      "text/plain": [
       "  task_id answer\n",
       "0  k10171      D\n",
       "1  k10182      D\n",
       "2  k10184      A\n",
       "3  k10206      D\n",
       "4  k10215      D"
      ]
     },
     "execution_count": 18,
     "metadata": {},
     "output_type": "execute_result"
    }
   ],
   "source": [
    "submission = pd.DataFrame(data_dict)\n",
    "submission.head()"
   ]
  },
  {
   "cell_type": "code",
   "execution_count": 19,
   "id": "a4eef350",
   "metadata": {
    "execution": {
     "iopub.execute_input": "2025-03-30T12:12:03.766575Z",
     "iopub.status.busy": "2025-03-30T12:12:03.766283Z",
     "iopub.status.idle": "2025-03-30T12:12:03.776759Z",
     "shell.execute_reply": "2025-03-30T12:12:03.775958Z"
    },
    "papermill": {
     "duration": 0.01702,
     "end_time": "2025-03-30T12:12:03.777948",
     "exception": false,
     "start_time": "2025-03-30T12:12:03.760928",
     "status": "completed"
    },
    "tags": []
   },
   "outputs": [
    {
     "data": {
      "text/html": [
       "<div>\n",
       "<style scoped>\n",
       "    .dataframe tbody tr th:only-of-type {\n",
       "        vertical-align: middle;\n",
       "    }\n",
       "\n",
       "    .dataframe tbody tr th {\n",
       "        vertical-align: top;\n",
       "    }\n",
       "\n",
       "    .dataframe thead th {\n",
       "        text-align: right;\n",
       "    }\n",
       "</style>\n",
       "<table border=\"1\" class=\"dataframe\">\n",
       "  <thead>\n",
       "    <tr style=\"text-align: right;\">\n",
       "      <th></th>\n",
       "      <th>task_id</th>\n",
       "      <th>answer</th>\n",
       "    </tr>\n",
       "  </thead>\n",
       "  <tbody>\n",
       "    <tr>\n",
       "      <th>count</th>\n",
       "      <td>1253</td>\n",
       "      <td>1253</td>\n",
       "    </tr>\n",
       "    <tr>\n",
       "      <th>unique</th>\n",
       "      <td>1253</td>\n",
       "      <td>5</td>\n",
       "    </tr>\n",
       "    <tr>\n",
       "      <th>top</th>\n",
       "      <td>k00700</td>\n",
       "      <td>A</td>\n",
       "    </tr>\n",
       "    <tr>\n",
       "      <th>freq</th>\n",
       "      <td>1</td>\n",
       "      <td>390</td>\n",
       "    </tr>\n",
       "  </tbody>\n",
       "</table>\n",
       "</div>"
      ],
      "text/plain": [
       "       task_id answer\n",
       "count     1253   1253\n",
       "unique    1253      5\n",
       "top     k00700      A\n",
       "freq         1    390"
      ]
     },
     "execution_count": 19,
     "metadata": {},
     "output_type": "execute_result"
    }
   ],
   "source": [
    "submission.describe()"
   ]
  },
  {
   "cell_type": "code",
   "execution_count": 20,
   "id": "f4ea3d76",
   "metadata": {
    "execution": {
     "iopub.execute_input": "2025-03-30T12:12:03.789109Z",
     "iopub.status.busy": "2025-03-30T12:12:03.788888Z",
     "iopub.status.idle": "2025-03-30T12:12:03.797695Z",
     "shell.execute_reply": "2025-03-30T12:12:03.796898Z"
    },
    "papermill": {
     "duration": 0.015941,
     "end_time": "2025-03-30T12:12:03.798851",
     "exception": false,
     "start_time": "2025-03-30T12:12:03.782910",
     "status": "completed"
    },
    "tags": []
   },
   "outputs": [],
   "source": [
    "submission.to_csv(\"submission.csv\", index=False)"
   ]
  }
 ],
 "metadata": {
  "kaggle": {
   "accelerator": "nvidiaTeslaT4",
   "dataSources": [
    {
     "databundleVersionId": 11597044,
     "isSourceIdPinned": false,
     "sourceId": 97436,
     "sourceType": "competition"
    },
    {
     "isSourceIdPinned": true,
     "modelId": 3108,
     "modelInstanceId": 4761,
     "sourceId": 5994,
     "sourceType": "modelInstanceVersion"
    }
   ],
   "dockerImageVersionId": 30919,
   "isGpuEnabled": true,
   "isInternetEnabled": true,
   "language": "python",
   "sourceType": "notebook"
  },
  "kernelspec": {
   "display_name": "Python 3",
   "language": "python",
   "name": "python3"
  },
  "language_info": {
   "codemirror_mode": {
    "name": "ipython",
    "version": 3
   },
   "file_extension": ".py",
   "mimetype": "text/x-python",
   "name": "python",
   "nbconvert_exporter": "python",
   "pygments_lexer": "ipython3",
   "version": "3.10.12"
  },
  "papermill": {
   "default_parameters": {},
   "duration": 3526.152786,
   "end_time": "2025-03-30T12:12:07.392613",
   "environment_variables": {},
   "exception": null,
   "input_path": "__notebook__.ipynb",
   "output_path": "__notebook__.ipynb",
   "parameters": {},
   "start_time": "2025-03-30T11:13:21.239827",
   "version": "2.6.0"
  },
  "widgets": {
   "application/vnd.jupyter.widget-state+json": {
    "state": {
     "11e28a0dca1b40d48673fd533f1f78bb": {
      "model_module": "@jupyter-widgets/controls",
      "model_module_version": "2.0.0",
      "model_name": "HTMLStyleModel",
      "state": {
       "_model_module": "@jupyter-widgets/controls",
       "_model_module_version": "2.0.0",
       "_model_name": "HTMLStyleModel",
       "_view_count": null,
       "_view_module": "@jupyter-widgets/base",
       "_view_module_version": "2.0.0",
       "_view_name": "StyleView",
       "background": null,
       "description_width": "",
       "font_size": null,
       "text_color": null
      }
     },
     "25b2c8dc3afd474f824ccb24ec629184": {
      "model_module": "@jupyter-widgets/controls",
      "model_module_version": "2.0.0",
      "model_name": "FloatProgressModel",
      "state": {
       "_dom_classes": [],
       "_model_module": "@jupyter-widgets/controls",
       "_model_module_version": "2.0.0",
       "_model_name": "FloatProgressModel",
       "_view_count": null,
       "_view_module": "@jupyter-widgets/controls",
       "_view_module_version": "2.0.0",
       "_view_name": "ProgressView",
       "bar_style": "success",
       "description": "",
       "description_allow_html": false,
       "layout": "IPY_MODEL_7b06cfa3b97f433eb55e857e191ba524",
       "max": 19.0,
       "min": 0.0,
       "orientation": "horizontal",
       "style": "IPY_MODEL_82101837701e4f0a87ed335cd1d580f7",
       "tabbable": null,
       "tooltip": null,
       "value": 19.0
      }
     },
     "3393308bed344efdae66eb77f060f7e0": {
      "model_module": "@jupyter-widgets/base",
      "model_module_version": "2.0.0",
      "model_name": "LayoutModel",
      "state": {
       "_model_module": "@jupyter-widgets/base",
       "_model_module_version": "2.0.0",
       "_model_name": "LayoutModel",
       "_view_count": null,
       "_view_module": "@jupyter-widgets/base",
       "_view_module_version": "2.0.0",
       "_view_name": "LayoutView",
       "align_content": null,
       "align_items": null,
       "align_self": null,
       "border_bottom": null,
       "border_left": null,
       "border_right": null,
       "border_top": null,
       "bottom": null,
       "display": null,
       "flex": null,
       "flex_flow": null,
       "grid_area": null,
       "grid_auto_columns": null,
       "grid_auto_flow": null,
       "grid_auto_rows": null,
       "grid_column": null,
       "grid_gap": null,
       "grid_row": null,
       "grid_template_areas": null,
       "grid_template_columns": null,
       "grid_template_rows": null,
       "height": null,
       "justify_content": null,
       "justify_items": null,
       "left": null,
       "margin": null,
       "max_height": null,
       "max_width": null,
       "min_height": null,
       "min_width": null,
       "object_fit": null,
       "object_position": null,
       "order": null,
       "overflow": null,
       "padding": null,
       "right": null,
       "top": null,
       "visibility": null,
       "width": null
      }
     },
     "521ebaa1264c49f6acfb2ad40d1e1db5": {
      "model_module": "@jupyter-widgets/base",
      "model_module_version": "2.0.0",
      "model_name": "LayoutModel",
      "state": {
       "_model_module": "@jupyter-widgets/base",
       "_model_module_version": "2.0.0",
       "_model_name": "LayoutModel",
       "_view_count": null,
       "_view_module": "@jupyter-widgets/base",
       "_view_module_version": "2.0.0",
       "_view_name": "LayoutView",
       "align_content": null,
       "align_items": null,
       "align_self": null,
       "border_bottom": null,
       "border_left": null,
       "border_right": null,
       "border_top": null,
       "bottom": null,
       "display": null,
       "flex": null,
       "flex_flow": null,
       "grid_area": null,
       "grid_auto_columns": null,
       "grid_auto_flow": null,
       "grid_auto_rows": null,
       "grid_column": null,
       "grid_gap": null,
       "grid_row": null,
       "grid_template_areas": null,
       "grid_template_columns": null,
       "grid_template_rows": null,
       "height": null,
       "justify_content": null,
       "justify_items": null,
       "left": null,
       "margin": null,
       "max_height": null,
       "max_width": null,
       "min_height": null,
       "min_width": null,
       "object_fit": null,
       "object_position": null,
       "order": null,
       "overflow": null,
       "padding": null,
       "right": null,
       "top": null,
       "visibility": null,
       "width": null
      }
     },
     "64206883e8564ae8a032333569331c03": {
      "model_module": "@jupyter-widgets/controls",
      "model_module_version": "2.0.0",
      "model_name": "HTMLModel",
      "state": {
       "_dom_classes": [],
       "_model_module": "@jupyter-widgets/controls",
       "_model_module_version": "2.0.0",
       "_model_name": "HTMLModel",
       "_view_count": null,
       "_view_module": "@jupyter-widgets/controls",
       "_view_module_version": "2.0.0",
       "_view_name": "HTMLView",
       "description": "",
       "description_allow_html": false,
       "layout": "IPY_MODEL_74d6318e00ed4d99884d36f041e1d2a6",
       "placeholder": "​",
       "style": "IPY_MODEL_e5dbc61456984528820fc2d2644c8f10",
       "tabbable": null,
       "tooltip": null,
       "value": " 1253/1253 [49:30&lt;00:00,  2.10s/it]"
      }
     },
     "74d6318e00ed4d99884d36f041e1d2a6": {
      "model_module": "@jupyter-widgets/base",
      "model_module_version": "2.0.0",
      "model_name": "LayoutModel",
      "state": {
       "_model_module": "@jupyter-widgets/base",
       "_model_module_version": "2.0.0",
       "_model_name": "LayoutModel",
       "_view_count": null,
       "_view_module": "@jupyter-widgets/base",
       "_view_module_version": "2.0.0",
       "_view_name": "LayoutView",
       "align_content": null,
       "align_items": null,
       "align_self": null,
       "border_bottom": null,
       "border_left": null,
       "border_right": null,
       "border_top": null,
       "bottom": null,
       "display": null,
       "flex": null,
       "flex_flow": null,
       "grid_area": null,
       "grid_auto_columns": null,
       "grid_auto_flow": null,
       "grid_auto_rows": null,
       "grid_column": null,
       "grid_gap": null,
       "grid_row": null,
       "grid_template_areas": null,
       "grid_template_columns": null,
       "grid_template_rows": null,
       "height": null,
       "justify_content": null,
       "justify_items": null,
       "left": null,
       "margin": null,
       "max_height": null,
       "max_width": null,
       "min_height": null,
       "min_width": null,
       "object_fit": null,
       "object_position": null,
       "order": null,
       "overflow": null,
       "padding": null,
       "right": null,
       "top": null,
       "visibility": null,
       "width": null
      }
     },
     "7989bca9713344098781a0cad7cf6a2f": {
      "model_module": "@jupyter-widgets/base",
      "model_module_version": "2.0.0",
      "model_name": "LayoutModel",
      "state": {
       "_model_module": "@jupyter-widgets/base",
       "_model_module_version": "2.0.0",
       "_model_name": "LayoutModel",
       "_view_count": null,
       "_view_module": "@jupyter-widgets/base",
       "_view_module_version": "2.0.0",
       "_view_name": "LayoutView",
       "align_content": null,
       "align_items": null,
       "align_self": null,
       "border_bottom": null,
       "border_left": null,
       "border_right": null,
       "border_top": null,
       "bottom": null,
       "display": null,
       "flex": null,
       "flex_flow": null,
       "grid_area": null,
       "grid_auto_columns": null,
       "grid_auto_flow": null,
       "grid_auto_rows": null,
       "grid_column": null,
       "grid_gap": null,
       "grid_row": null,
       "grid_template_areas": null,
       "grid_template_columns": null,
       "grid_template_rows": null,
       "height": null,
       "justify_content": null,
       "justify_items": null,
       "left": null,
       "margin": null,
       "max_height": null,
       "max_width": null,
       "min_height": null,
       "min_width": null,
       "object_fit": null,
       "object_position": null,
       "order": null,
       "overflow": null,
       "padding": null,
       "right": null,
       "top": null,
       "visibility": null,
       "width": null
      }
     },
     "7adc8f7162654500ae451129218c714a": {
      "model_module": "@jupyter-widgets/controls",
      "model_module_version": "2.0.0",
      "model_name": "HTMLModel",
      "state": {
       "_dom_classes": [],
       "_model_module": "@jupyter-widgets/controls",
       "_model_module_version": "2.0.0",
       "_model_name": "HTMLModel",
       "_view_count": null,
       "_view_module": "@jupyter-widgets/controls",
       "_view_module_version": "2.0.0",
       "_view_name": "HTMLView",
       "description": "",
       "description_allow_html": false,
       "layout": "IPY_MODEL_b545c76e41d84c5781e836a08dd8654c",
       "placeholder": "​",
       "style": "IPY_MODEL_11e28a0dca1b40d48673fd533f1f78bb",
       "tabbable": null,
       "tooltip": null,
       "value": " 19/19 [07:46&lt;00:00, 23.85s/it]"
      }
     },
     "7b06cfa3b97f433eb55e857e191ba524": {
      "model_module": "@jupyter-widgets/base",
      "model_module_version": "2.0.0",
      "model_name": "LayoutModel",
      "state": {
       "_model_module": "@jupyter-widgets/base",
       "_model_module_version": "2.0.0",
       "_model_name": "LayoutModel",
       "_view_count": null,
       "_view_module": "@jupyter-widgets/base",
       "_view_module_version": "2.0.0",
       "_view_name": "LayoutView",
       "align_content": null,
       "align_items": null,
       "align_self": null,
       "border_bottom": null,
       "border_left": null,
       "border_right": null,
       "border_top": null,
       "bottom": null,
       "display": null,
       "flex": null,
       "flex_flow": null,
       "grid_area": null,
       "grid_auto_columns": null,
       "grid_auto_flow": null,
       "grid_auto_rows": null,
       "grid_column": null,
       "grid_gap": null,
       "grid_row": null,
       "grid_template_areas": null,
       "grid_template_columns": null,
       "grid_template_rows": null,
       "height": null,
       "justify_content": null,
       "justify_items": null,
       "left": null,
       "margin": null,
       "max_height": null,
       "max_width": null,
       "min_height": null,
       "min_width": null,
       "object_fit": null,
       "object_position": null,
       "order": null,
       "overflow": null,
       "padding": null,
       "right": null,
       "top": null,
       "visibility": null,
       "width": null
      }
     },
     "82101837701e4f0a87ed335cd1d580f7": {
      "model_module": "@jupyter-widgets/controls",
      "model_module_version": "2.0.0",
      "model_name": "ProgressStyleModel",
      "state": {
       "_model_module": "@jupyter-widgets/controls",
       "_model_module_version": "2.0.0",
       "_model_name": "ProgressStyleModel",
       "_view_count": null,
       "_view_module": "@jupyter-widgets/base",
       "_view_module_version": "2.0.0",
       "_view_name": "StyleView",
       "bar_color": null,
       "description_width": ""
      }
     },
     "8fc16596f6204838a728e50e8cb9cfe1": {
      "model_module": "@jupyter-widgets/controls",
      "model_module_version": "2.0.0",
      "model_name": "HTMLStyleModel",
      "state": {
       "_model_module": "@jupyter-widgets/controls",
       "_model_module_version": "2.0.0",
       "_model_name": "HTMLStyleModel",
       "_view_count": null,
       "_view_module": "@jupyter-widgets/base",
       "_view_module_version": "2.0.0",
       "_view_name": "StyleView",
       "background": null,
       "description_width": "",
       "font_size": null,
       "text_color": null
      }
     },
     "9a78d5b0b6684b4390aef62b3dddea5f": {
      "model_module": "@jupyter-widgets/controls",
      "model_module_version": "2.0.0",
      "model_name": "HTMLModel",
      "state": {
       "_dom_classes": [],
       "_model_module": "@jupyter-widgets/controls",
       "_model_module_version": "2.0.0",
       "_model_name": "HTMLModel",
       "_view_count": null,
       "_view_module": "@jupyter-widgets/controls",
       "_view_module_version": "2.0.0",
       "_view_name": "HTMLView",
       "description": "",
       "description_allow_html": false,
       "layout": "IPY_MODEL_3393308bed344efdae66eb77f060f7e0",
       "placeholder": "​",
       "style": "IPY_MODEL_eab90cd8a2444b7e9b315ce2ffc949d5",
       "tabbable": null,
       "tooltip": null,
       "value": "Inference on Test set: 100%"
      }
     },
     "b12ca33821a14289b9786d1087ffac6d": {
      "model_module": "@jupyter-widgets/controls",
      "model_module_version": "2.0.0",
      "model_name": "HTMLModel",
      "state": {
       "_dom_classes": [],
       "_model_module": "@jupyter-widgets/controls",
       "_model_module_version": "2.0.0",
       "_model_name": "HTMLModel",
       "_view_count": null,
       "_view_module": "@jupyter-widgets/controls",
       "_view_module_version": "2.0.0",
       "_view_name": "HTMLView",
       "description": "",
       "description_allow_html": false,
       "layout": "IPY_MODEL_7989bca9713344098781a0cad7cf6a2f",
       "placeholder": "​",
       "style": "IPY_MODEL_8fc16596f6204838a728e50e8cb9cfe1",
       "tabbable": null,
       "tooltip": null,
       "value": "Loading checkpoint shards: 100%"
      }
     },
     "b545c76e41d84c5781e836a08dd8654c": {
      "model_module": "@jupyter-widgets/base",
      "model_module_version": "2.0.0",
      "model_name": "LayoutModel",
      "state": {
       "_model_module": "@jupyter-widgets/base",
       "_model_module_version": "2.0.0",
       "_model_name": "LayoutModel",
       "_view_count": null,
       "_view_module": "@jupyter-widgets/base",
       "_view_module_version": "2.0.0",
       "_view_name": "LayoutView",
       "align_content": null,
       "align_items": null,
       "align_self": null,
       "border_bottom": null,
       "border_left": null,
       "border_right": null,
       "border_top": null,
       "bottom": null,
       "display": null,
       "flex": null,
       "flex_flow": null,
       "grid_area": null,
       "grid_auto_columns": null,
       "grid_auto_flow": null,
       "grid_auto_rows": null,
       "grid_column": null,
       "grid_gap": null,
       "grid_row": null,
       "grid_template_areas": null,
       "grid_template_columns": null,
       "grid_template_rows": null,
       "height": null,
       "justify_content": null,
       "justify_items": null,
       "left": null,
       "margin": null,
       "max_height": null,
       "max_width": null,
       "min_height": null,
       "min_width": null,
       "object_fit": null,
       "object_position": null,
       "order": null,
       "overflow": null,
       "padding": null,
       "right": null,
       "top": null,
       "visibility": null,
       "width": null
      }
     },
     "b9e3848765e445d69baa7daedb4291b3": {
      "model_module": "@jupyter-widgets/controls",
      "model_module_version": "2.0.0",
      "model_name": "FloatProgressModel",
      "state": {
       "_dom_classes": [],
       "_model_module": "@jupyter-widgets/controls",
       "_model_module_version": "2.0.0",
       "_model_name": "FloatProgressModel",
       "_view_count": null,
       "_view_module": "@jupyter-widgets/controls",
       "_view_module_version": "2.0.0",
       "_view_name": "ProgressView",
       "bar_style": "success",
       "description": "",
       "description_allow_html": false,
       "layout": "IPY_MODEL_cb7e303569024812900268ed60dec66a",
       "max": 1253.0,
       "min": 0.0,
       "orientation": "horizontal",
       "style": "IPY_MODEL_c7905170bec340f4a2ec9715634c22cb",
       "tabbable": null,
       "tooltip": null,
       "value": 1253.0
      }
     },
     "c7905170bec340f4a2ec9715634c22cb": {
      "model_module": "@jupyter-widgets/controls",
      "model_module_version": "2.0.0",
      "model_name": "ProgressStyleModel",
      "state": {
       "_model_module": "@jupyter-widgets/controls",
       "_model_module_version": "2.0.0",
       "_model_name": "ProgressStyleModel",
       "_view_count": null,
       "_view_module": "@jupyter-widgets/base",
       "_view_module_version": "2.0.0",
       "_view_name": "StyleView",
       "bar_color": null,
       "description_width": ""
      }
     },
     "cb7e303569024812900268ed60dec66a": {
      "model_module": "@jupyter-widgets/base",
      "model_module_version": "2.0.0",
      "model_name": "LayoutModel",
      "state": {
       "_model_module": "@jupyter-widgets/base",
       "_model_module_version": "2.0.0",
       "_model_name": "LayoutModel",
       "_view_count": null,
       "_view_module": "@jupyter-widgets/base",
       "_view_module_version": "2.0.0",
       "_view_name": "LayoutView",
       "align_content": null,
       "align_items": null,
       "align_self": null,
       "border_bottom": null,
       "border_left": null,
       "border_right": null,
       "border_top": null,
       "bottom": null,
       "display": null,
       "flex": null,
       "flex_flow": null,
       "grid_area": null,
       "grid_auto_columns": null,
       "grid_auto_flow": null,
       "grid_auto_rows": null,
       "grid_column": null,
       "grid_gap": null,
       "grid_row": null,
       "grid_template_areas": null,
       "grid_template_columns": null,
       "grid_template_rows": null,
       "height": null,
       "justify_content": null,
       "justify_items": null,
       "left": null,
       "margin": null,
       "max_height": null,
       "max_width": null,
       "min_height": null,
       "min_width": null,
       "object_fit": null,
       "object_position": null,
       "order": null,
       "overflow": null,
       "padding": null,
       "right": null,
       "top": null,
       "visibility": null,
       "width": null
      }
     },
     "d9a32565cfda474cbbb94d2ec4d18522": {
      "model_module": "@jupyter-widgets/controls",
      "model_module_version": "2.0.0",
      "model_name": "HBoxModel",
      "state": {
       "_dom_classes": [],
       "_model_module": "@jupyter-widgets/controls",
       "_model_module_version": "2.0.0",
       "_model_name": "HBoxModel",
       "_view_count": null,
       "_view_module": "@jupyter-widgets/controls",
       "_view_module_version": "2.0.0",
       "_view_name": "HBoxView",
       "box_style": "",
       "children": [
        "IPY_MODEL_b12ca33821a14289b9786d1087ffac6d",
        "IPY_MODEL_25b2c8dc3afd474f824ccb24ec629184",
        "IPY_MODEL_7adc8f7162654500ae451129218c714a"
       ],
       "layout": "IPY_MODEL_fb422b34154847109961fd545b0a5189",
       "tabbable": null,
       "tooltip": null
      }
     },
     "e5dbc61456984528820fc2d2644c8f10": {
      "model_module": "@jupyter-widgets/controls",
      "model_module_version": "2.0.0",
      "model_name": "HTMLStyleModel",
      "state": {
       "_model_module": "@jupyter-widgets/controls",
       "_model_module_version": "2.0.0",
       "_model_name": "HTMLStyleModel",
       "_view_count": null,
       "_view_module": "@jupyter-widgets/base",
       "_view_module_version": "2.0.0",
       "_view_name": "StyleView",
       "background": null,
       "description_width": "",
       "font_size": null,
       "text_color": null
      }
     },
     "eab90cd8a2444b7e9b315ce2ffc949d5": {
      "model_module": "@jupyter-widgets/controls",
      "model_module_version": "2.0.0",
      "model_name": "HTMLStyleModel",
      "state": {
       "_model_module": "@jupyter-widgets/controls",
       "_model_module_version": "2.0.0",
       "_model_name": "HTMLStyleModel",
       "_view_count": null,
       "_view_module": "@jupyter-widgets/base",
       "_view_module_version": "2.0.0",
       "_view_name": "StyleView",
       "background": null,
       "description_width": "",
       "font_size": null,
       "text_color": null
      }
     },
     "f725f55edd754bad9b11ddd44e9b4940": {
      "model_module": "@jupyter-widgets/controls",
      "model_module_version": "2.0.0",
      "model_name": "HBoxModel",
      "state": {
       "_dom_classes": [],
       "_model_module": "@jupyter-widgets/controls",
       "_model_module_version": "2.0.0",
       "_model_name": "HBoxModel",
       "_view_count": null,
       "_view_module": "@jupyter-widgets/controls",
       "_view_module_version": "2.0.0",
       "_view_name": "HBoxView",
       "box_style": "",
       "children": [
        "IPY_MODEL_9a78d5b0b6684b4390aef62b3dddea5f",
        "IPY_MODEL_b9e3848765e445d69baa7daedb4291b3",
        "IPY_MODEL_64206883e8564ae8a032333569331c03"
       ],
       "layout": "IPY_MODEL_521ebaa1264c49f6acfb2ad40d1e1db5",
       "tabbable": null,
       "tooltip": null
      }
     },
     "fb422b34154847109961fd545b0a5189": {
      "model_module": "@jupyter-widgets/base",
      "model_module_version": "2.0.0",
      "model_name": "LayoutModel",
      "state": {
       "_model_module": "@jupyter-widgets/base",
       "_model_module_version": "2.0.0",
       "_model_name": "LayoutModel",
       "_view_count": null,
       "_view_module": "@jupyter-widgets/base",
       "_view_module_version": "2.0.0",
       "_view_name": "LayoutView",
       "align_content": null,
       "align_items": null,
       "align_self": null,
       "border_bottom": null,
       "border_left": null,
       "border_right": null,
       "border_top": null,
       "bottom": null,
       "display": null,
       "flex": null,
       "flex_flow": null,
       "grid_area": null,
       "grid_auto_columns": null,
       "grid_auto_flow": null,
       "grid_auto_rows": null,
       "grid_column": null,
       "grid_gap": null,
       "grid_row": null,
       "grid_template_areas": null,
       "grid_template_columns": null,
       "grid_template_rows": null,
       "height": null,
       "justify_content": null,
       "justify_items": null,
       "left": null,
       "margin": null,
       "max_height": null,
       "max_width": null,
       "min_height": null,
       "min_width": null,
       "object_fit": null,
       "object_position": null,
       "order": null,
       "overflow": null,
       "padding": null,
       "right": null,
       "top": null,
       "visibility": null,
       "width": null
      }
     }
    },
    "version_major": 2,
    "version_minor": 0
   }
  }
 },
 "nbformat": 4,
 "nbformat_minor": 5
}
